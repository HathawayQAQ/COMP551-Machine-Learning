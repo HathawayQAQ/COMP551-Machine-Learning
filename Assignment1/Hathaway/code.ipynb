{
  "nbformat": 4,
  "nbformat_minor": 0,
  "metadata": {
    "colab": {
      "provenance": [],
      "authorship_tag": "ABX9TyOXAOBfgMczmFuVvMiC/HkH",
      "include_colab_link": true
    },
    "kernelspec": {
      "name": "python3",
      "display_name": "Python 3"
    },
    "language_info": {
      "name": "python"
    }
  },
  "cells": [
    {
      "cell_type": "markdown",
      "metadata": {
        "id": "view-in-github",
        "colab_type": "text"
      },
      "source": [
        "<a href=\"https://colab.research.google.com/github/HathawayQAQ/COMP551-Machine-Learning/blob/main/Assignment1/code.ipynb\" target=\"_parent\"><img src=\"https://colab.research.google.com/assets/colab-badge.svg\" alt=\"Open In Colab\"/></a>"
      ]
    },
    {
      "cell_type": "markdown",
      "source": [],
      "metadata": {
        "id": "FTMm8sd2kD1v"
      }
    },
    {
      "cell_type": "code",
      "source": [
        "import numpy as np\n",
        "import pandas as pd\n",
        "\n",
        "!pip install ucimlrepo\n",
        "# Import the required library\n",
        "from ucimlrepo import fetch_ucirepo\n"
      ],
      "metadata": {
        "colab": {
          "base_uri": "https://localhost:8080/"
        },
        "id": "CoqEll8-emtE",
        "outputId": "d4440693-8df4-4df5-e1ad-39b13df4dc3b"
      },
      "execution_count": 3,
      "outputs": [
        {
          "output_type": "stream",
          "name": "stdout",
          "text": [
            "Collecting ucimlrepo\n",
            "  Downloading ucimlrepo-0.0.7-py3-none-any.whl.metadata (5.5 kB)\n",
            "Requirement already satisfied: pandas>=1.0.0 in /usr/local/lib/python3.10/dist-packages (from ucimlrepo) (2.1.4)\n",
            "Requirement already satisfied: certifi>=2020.12.5 in /usr/local/lib/python3.10/dist-packages (from ucimlrepo) (2024.8.30)\n",
            "Requirement already satisfied: numpy<2,>=1.22.4 in /usr/local/lib/python3.10/dist-packages (from pandas>=1.0.0->ucimlrepo) (1.26.4)\n",
            "Requirement already satisfied: python-dateutil>=2.8.2 in /usr/local/lib/python3.10/dist-packages (from pandas>=1.0.0->ucimlrepo) (2.8.2)\n",
            "Requirement already satisfied: pytz>=2020.1 in /usr/local/lib/python3.10/dist-packages (from pandas>=1.0.0->ucimlrepo) (2024.2)\n",
            "Requirement already satisfied: tzdata>=2022.1 in /usr/local/lib/python3.10/dist-packages (from pandas>=1.0.0->ucimlrepo) (2024.1)\n",
            "Requirement already satisfied: six>=1.5 in /usr/local/lib/python3.10/dist-packages (from python-dateutil>=2.8.2->pandas>=1.0.0->ucimlrepo) (1.16.0)\n",
            "Downloading ucimlrepo-0.0.7-py3-none-any.whl (8.0 kB)\n",
            "Installing collected packages: ucimlrepo\n",
            "Successfully installed ucimlrepo-0.0.7\n"
          ]
        }
      ]
    },
    {
      "cell_type": "markdown",
      "source": [
        "# Task1: Acquire, preprocess, and analyze the data\n",
        "## Data Preperation\n",
        "1. Dataset1: Infrared Thermography Temperature (regression): [link](https://archive.ics.uci.edu/dataset/925/infrared+thermography+temperature+dataset)\n",
        "2. Dataset 2: CDC Diabetes Health Indicators (classification): [link](https://archive.ics.uci.edu/dataset/891/cdc+diabetes+health+indicators)"
      ],
      "metadata": {
        "id": "JKJB_swKkghc"
      }
    },
    {
      "cell_type": "markdown",
      "source": [
        "## Infrared Thermography Temperature"
      ],
      "metadata": {
        "id": "uhlrJ6UYk7u2"
      }
    },
    {
      "cell_type": "code",
      "source": [
        "# Fetch the dataset by ID\n",
        "infrared_thermography_temperature = fetch_ucirepo(id=925)\n",
        "\n",
        "# data (as pandas dataframes)\n",
        "X = infrared_thermography_temperature.data.features\n",
        "y = infrared_thermography_temperature.data.targets\n",
        "\n",
        "# metadata\n",
        "print(infrared_thermography_temperature.metadata)\n",
        "\n",
        "# variable information\n",
        "print(infrared_thermography_temperature.variables)\n"
      ],
      "metadata": {
        "colab": {
          "base_uri": "https://localhost:8080/"
        },
        "id": "Snf_ax9vlDIf",
        "outputId": "7e74abc9-75e6-4a63-e8ac-ec3a62090a24"
      },
      "execution_count": 4,
      "outputs": [
        {
          "output_type": "stream",
          "name": "stdout",
          "text": [
            "{'uci_id': 925, 'name': 'Infrared Thermography Temperature', 'repository_url': 'https://archive.ics.uci.edu/dataset/925/infrared+thermography+temperature+dataset', 'data_url': 'https://archive.ics.uci.edu/static/public/925/data.csv', 'abstract': 'The Infrared Thermography Temperature Dataset contains temperatures read from various locations of inferred images about patients, with the addition of oral temperatures measured for each individual. The 33 features consist of gender, age, ethnicity, ambiant temperature, humidity, distance, and other temperature readings from the thermal images. The dataset is intended to be used in a regression task to predict the oral temperature using the environment information as well as the thermal image readings. ', 'area': 'Health and Medicine', 'tasks': ['Regression'], 'characteristics': ['Tabular'], 'num_instances': 1020, 'num_features': 33, 'feature_types': ['Real', 'Categorical'], 'demographics': ['Gender', 'Age', 'Ethnicity'], 'target_col': ['aveOralF', 'aveOralM'], 'index_col': ['SubjectID'], 'has_missing_values': 'no', 'missing_values_symbol': None, 'year_of_dataset_creation': 2021, 'last_updated': 'Tue Dec 12 2023', 'dataset_doi': '10.13026/9ay4-2c37', 'creators': ['Quanzeng Wang', 'Yangling Zhou', 'Pejman Ghassemi', 'David McBride', 'J. Casamento', 'T. Pfefer', 'Quanzeng Wang', 'Yangling Zhou', 'Pejman Ghassemi', 'David McBride', 'J. Casamento', 'T. Pfefer'], 'intro_paper': {'ID': 343, 'type': 'NATIVE', 'title': 'Infrared Thermography for Measuring Elevated Body Temperature: Clinical Accuracy, Calibration, and Evaluation', 'authors': 'Quanzeng Wang, Yangling Zhou, Pejman Ghassemi, David McBride, J. Casamento, T. Pfefer', 'venue': 'Italian National Conference on Sensors', 'year': 2021, 'journal': None, 'DOI': None, 'URL': 'https://www.semanticscholar.org/paper/443b9932d295ca3a014e7d874b4bd77a33a276bd', 'sha': None, 'corpus': None, 'arxiv': None, 'mag': None, 'acl': None, 'pmid': None, 'pmcid': None}, 'additional_info': {'summary': None, 'purpose': None, 'funded_by': None, 'instances_represent': None, 'recommended_data_splits': None, 'sensitive_data': None, 'preprocessing_description': None, 'variable_info': '- gender\\n- age\\n- ethnicity\\n- ambiant temperature\\n- humidity\\n- distance\\n- temperature readings from the thermal images', 'citation': None}, 'external_url': 'https://physionet.org/content/face-oral-temp-data/1.0.0/'}\n",
            "           name     role         type demographic  \\\n",
            "0     SubjectID       ID  Categorical        None   \n",
            "1      aveOralF   Target   Continuous        None   \n",
            "2      aveOralM   Target   Continuous        None   \n",
            "3        Gender  Feature  Categorical      Gender   \n",
            "4           Age  Feature  Categorical         Age   \n",
            "5     Ethnicity  Feature  Categorical   Ethnicity   \n",
            "6         T_atm  Feature   Continuous        None   \n",
            "7      Humidity  Feature   Continuous        None   \n",
            "8      Distance  Feature   Continuous        None   \n",
            "9     T_offset1  Feature   Continuous        None   \n",
            "10    Max1R13_1  Feature   Continuous        None   \n",
            "11    Max1L13_1  Feature   Continuous        None   \n",
            "12  aveAllR13_1  Feature   Continuous        None   \n",
            "13  aveAllL13_1  Feature   Continuous        None   \n",
            "14        T_RC1  Feature   Continuous        None   \n",
            "15    T_RC_Dry1  Feature   Continuous        None   \n",
            "16    T_RC_Wet1  Feature   Continuous        None   \n",
            "17    T_RC_Max1  Feature   Continuous        None   \n",
            "18        T_LC1  Feature   Continuous        None   \n",
            "19    T_LC_Dry1  Feature   Continuous        None   \n",
            "20    T_LC_Wet1  Feature   Continuous        None   \n",
            "21    T_LC_Max1  Feature   Continuous        None   \n",
            "22         RCC1  Feature   Continuous        None   \n",
            "23         LCC1  Feature   Continuous        None   \n",
            "24   canthiMax1  Feature   Continuous        None   \n",
            "25  canthi4Max1  Feature   Continuous        None   \n",
            "26      T_FHCC1  Feature   Continuous        None   \n",
            "27      T_FHRC1  Feature   Continuous        None   \n",
            "28      T_FHLC1  Feature   Continuous        None   \n",
            "29      T_FHBC1  Feature   Continuous        None   \n",
            "30      T_FHTC1  Feature   Continuous        None   \n",
            "31    T_FH_Max1  Feature   Continuous        None   \n",
            "32   T_FHC_Max1  Feature   Continuous        None   \n",
            "33       T_Max1  Feature   Continuous        None   \n",
            "34        T_OR1  Feature   Continuous        None   \n",
            "35    T_OR_Max1  Feature   Continuous        None   \n",
            "\n",
            "                                          description units missing_values  \n",
            "0                                          Subject ID  None             no  \n",
            "1              Oral temperature measured in fast mode  None             no  \n",
            "2           Oral temperature measured in monitor mode  None             no  \n",
            "3                                      Male or Female  None             no  \n",
            "4                          Age ranges in categories\\n  None             no  \n",
            "5   American Indian or Alaska Native, Asian, Black...  None             no  \n",
            "6                                 Ambiant temperature  None             no  \n",
            "7                                   Relative humidity  None             no  \n",
            "8       Distance between the subjects and the IRTs.    None             no  \n",
            "9   Temperature difference between the set and mea...  None             no  \n",
            "10  Max value of a circle with diameter of 13 pixe...  None             no  \n",
            "11  Max value of a circle with diameter of 13 pixe...  None             no  \n",
            "12  Average value of a circle with diameter of 13 ...  None             no  \n",
            "13  Average value of a circle with diameter of 13 ...  None             no  \n",
            "14  Average temperature of the highest four pixels...  None             no  \n",
            "15  Average temperature of the highest four pixels...  None             no  \n",
            "16  Average temperature of the highest four pixels...  None             no  \n",
            "17  Max value of a square of 24x24 pixels around t...  None             no  \n",
            "18  Average temperature of the highest four pixels...  None             no  \n",
            "19  Average temperature of the highest four pixels...  None             no  \n",
            "20  Average temperature of the highest four pixels...  None             no  \n",
            "21  Max value of a circle with diameter of 13 pixe...  None             no  \n",
            "22  Average value of a square of 3x3 pixels center...  None             no  \n",
            "23  Average value of a square of 3x3 pixels center...  None             no  \n",
            "24              Max value in the extended canthi area  None             no  \n",
            "25  Average temperature of the highest four pixels...  None             no  \n",
            "26  Average value in the center point of forehead,...  None             no  \n",
            "27  Average value in the right point of the forehe...  None             no  \n",
            "28  Average value in the left point of the forehea...  None             no  \n",
            "29  Average value in the bottom point of the foreh...  None             no  \n",
            "30  Average value in the top point of the forehead...  None             no  \n",
            "31  Maximum temperature within the extended forehe...  None             no  \n",
            "32  Max value in the center point of forehead, a s...  None             no  \n",
            "33  Maximum temperature within the whole face region.  None             no  \n",
            "34  Average temperature of the highest four pixels...  None             no  \n",
            "35       Maximum temperature within the mouth region.  None             no  \n"
          ]
        }
      ]
    },
    {
      "cell_type": "markdown",
      "source": [
        "## CDC Diabetes Health Indicators"
      ],
      "metadata": {
        "id": "EmlkMU2slIAG"
      }
    },
    {
      "cell_type": "code",
      "source": [
        "# fetch dataset\n",
        "cdc_diabetes_health_indicators = fetch_ucirepo(id=891)\n",
        "\n",
        "# data (as pandas dataframes)\n",
        "X = cdc_diabetes_health_indicators.data.features\n",
        "y = cdc_diabetes_health_indicators.data.targets\n",
        "\n",
        "# metadata\n",
        "print(cdc_diabetes_health_indicators.metadata)\n",
        "\n",
        "# variable information\n",
        "print(cdc_diabetes_health_indicators.variables)\n"
      ],
      "metadata": {
        "id": "l--Bi8XJicwi",
        "colab": {
          "base_uri": "https://localhost:8080/"
        },
        "outputId": "197072a8-a16e-4ba1-88cc-2da969be14a4"
      },
      "execution_count": 5,
      "outputs": [
        {
          "output_type": "stream",
          "name": "stdout",
          "text": [
            "{'uci_id': 891, 'name': 'CDC Diabetes Health Indicators', 'repository_url': 'https://archive.ics.uci.edu/dataset/891/cdc+diabetes+health+indicators', 'data_url': 'https://archive.ics.uci.edu/static/public/891/data.csv', 'abstract': 'The Diabetes Health Indicators Dataset contains healthcare statistics and lifestyle survey information about people in general along with their diagnosis of diabetes. The 35 features consist of some demographics, lab test results, and answers to survey questions for each patient. The target variable for classification is whether a patient has diabetes, is pre-diabetic, or healthy. ', 'area': 'Health and Medicine', 'tasks': ['Classification'], 'characteristics': ['Tabular', 'Multivariate'], 'num_instances': 253680, 'num_features': 21, 'feature_types': ['Categorical', 'Integer'], 'demographics': ['Sex', 'Age', 'Education Level', 'Income'], 'target_col': ['Diabetes_binary'], 'index_col': ['ID'], 'has_missing_values': 'no', 'missing_values_symbol': None, 'year_of_dataset_creation': 2017, 'last_updated': 'Fri Nov 03 2023', 'dataset_doi': '10.24432/C53919', 'creators': [], 'intro_paper': {'ID': 308, 'type': 'NATIVE', 'title': 'Incidence of End-Stage Renal Disease Attributed to Diabetes Among Persons with Diagnosed Diabetes — United States and Puerto Rico, 2000–2014', 'authors': 'Nilka Rios Burrows, MPH; Israel Hora, PhD; Linda S. Geiss, MA; Edward W. Gregg, PhD; Ann Albright, PhD', 'venue': 'Morbidity and Mortality Weekly Report', 'year': 2017, 'journal': None, 'DOI': None, 'URL': 'https://www.cdc.gov/mmwr/volumes/66/wr/mm6643a2.htm', 'sha': None, 'corpus': None, 'arxiv': None, 'mag': None, 'acl': None, 'pmid': None, 'pmcid': None}, 'additional_info': {'summary': 'Dataset link: https://www.cdc.gov/brfss/annual_data/annual_2014.html', 'purpose': 'To better understand the relationship between  lifestyle and diabetes in the US', 'funded_by': 'The CDC', 'instances_represent': 'Each row represents a person participating in this study.', 'recommended_data_splits': 'Cross validation or a fixed train-test split could be used.', 'sensitive_data': '- Gender\\n- Income\\n- Education level', 'preprocessing_description': 'Bucketing of age', 'variable_info': '- Diabetes diagnosis\\n- Demographics (race, sex)\\n- Personal information (income, educations)\\n- Health history (drinking, smoking, mental health, physical health)', 'citation': None}, 'external_url': 'https://www.kaggle.com/datasets/alexteboul/diabetes-health-indicators-dataset'}\n",
            "                    name     role     type      demographic  \\\n",
            "0                     ID       ID  Integer             None   \n",
            "1        Diabetes_binary   Target   Binary             None   \n",
            "2                 HighBP  Feature   Binary             None   \n",
            "3               HighChol  Feature   Binary             None   \n",
            "4              CholCheck  Feature   Binary             None   \n",
            "5                    BMI  Feature  Integer             None   \n",
            "6                 Smoker  Feature   Binary             None   \n",
            "7                 Stroke  Feature   Binary             None   \n",
            "8   HeartDiseaseorAttack  Feature   Binary             None   \n",
            "9           PhysActivity  Feature   Binary             None   \n",
            "10                Fruits  Feature   Binary             None   \n",
            "11               Veggies  Feature   Binary             None   \n",
            "12     HvyAlcoholConsump  Feature   Binary             None   \n",
            "13         AnyHealthcare  Feature   Binary             None   \n",
            "14           NoDocbcCost  Feature   Binary             None   \n",
            "15               GenHlth  Feature  Integer             None   \n",
            "16              MentHlth  Feature  Integer             None   \n",
            "17              PhysHlth  Feature  Integer             None   \n",
            "18              DiffWalk  Feature   Binary             None   \n",
            "19                   Sex  Feature   Binary              Sex   \n",
            "20                   Age  Feature  Integer              Age   \n",
            "21             Education  Feature  Integer  Education Level   \n",
            "22                Income  Feature  Integer           Income   \n",
            "\n",
            "                                          description units missing_values  \n",
            "0                                          Patient ID  None             no  \n",
            "1         0 = no diabetes 1 = prediabetes or diabetes  None             no  \n",
            "2                          0 = no high BP 1 = high BP  None             no  \n",
            "3        0 = no high cholesterol 1 = high cholesterol  None             no  \n",
            "4   0 = no cholesterol check in 5 years 1 = yes ch...  None             no  \n",
            "5                                     Body Mass Index  None             no  \n",
            "6   Have you smoked at least 100 cigarettes in you...  None             no  \n",
            "7        (Ever told) you had a stroke. 0 = no 1 = yes  None             no  \n",
            "8   coronary heart disease (CHD) or myocardial inf...  None             no  \n",
            "9   physical activity in past 30 days - not includ...  None             no  \n",
            "10  Consume Fruit 1 or more times per day 0 = no 1...  None             no  \n",
            "11  Consume Vegetables 1 or more times per day 0 =...  None             no  \n",
            "12  Heavy drinkers (adult men having more than 14 ...  None             no  \n",
            "13  Have any kind of health care coverage, includi...  None             no  \n",
            "14  Was there a time in the past 12 months when yo...  None             no  \n",
            "15  Would you say that in general your health is: ...  None             no  \n",
            "16  Now thinking about your mental health, which i...  None             no  \n",
            "17  Now thinking about your physical health, which...  None             no  \n",
            "18  Do you have serious difficulty walking or clim...  None             no  \n",
            "19                                0 = female 1 = male  None             no  \n",
            "20  13-level age category (_AGEG5YR see codebook) ...  None             no  \n",
            "21  Education level (EDUCA see codebook) scale 1-6...  None             no  \n",
            "22  Income scale (INCOME2 see codebook) scale 1-8 ...  None             no  \n"
          ]
        }
      ]
    },
    {
      "cell_type": "markdown",
      "source": [
        "# Task2: Implement the Models"
      ],
      "metadata": {
        "id": "6rVzJ3mMMLEd"
      }
    },
    {
      "cell_type": "markdown",
      "source": [
        "## 1. Linear Regression (Analytical Solution)"
      ],
      "metadata": {
        "id": "wtx7G1sNuE-6"
      }
    },
    {
      "cell_type": "code",
      "source": [
        "import numpy as np\n",
        "\n",
        "class LinearRegression:\n",
        "    def __init__(self):\n",
        "        self.theta = None\n",
        "\n",
        "    def fit(self, X, y):\n",
        "        # Add intercept to X\n",
        "        X_b = np.c_[np.ones((X.shape[0], 1)), X]\n",
        "\n",
        "        # Analytical solution (Normal Equation)\n",
        "        self.theta = np.linalg.inv(X_b.T.dot(X_b)).dot(X_b.T).dot(y)\n",
        "\n",
        "    def predict(self, X):\n",
        "        X_b = np.c_[np.ones((X.shape[0], 1)), X]  # Add intercept to X\n",
        "        return X_b.dot(self.theta)\n"
      ],
      "metadata": {
        "id": "sBkik0fZsp8i"
      },
      "execution_count": 6,
      "outputs": []
    },
    {
      "cell_type": "markdown",
      "source": [
        "## 2. Logistic Regression (with Gradient Descent)"
      ],
      "metadata": {
        "id": "YsQ78NiprMym"
      }
    },
    {
      "cell_type": "code",
      "source": [
        "class LogisticRegression:\n",
        "    def __init__(self, learning_rate=0.01, n_iter=1000):\n",
        "        self.learning_rate = learning_rate\n",
        "        self.n_iter = n_iter\n",
        "        self.theta = None\n",
        "\n",
        "    def sigmoid(self, z):\n",
        "        return 1 / (1 + np.exp(-z))\n",
        "\n",
        "    def cost_function(self, X, y):\n",
        "        m = len(y)\n",
        "        predictions = self.sigmoid(X.dot(self.theta))\n",
        "        cost = (-1 / m) * (y.dot(np.log(predictions)) + (1 - y).dot(np.log(1 - predictions)))\n",
        "        return cost\n",
        "\n",
        "    def fit(self, X, y):\n",
        "        # Add intercept to X\n",
        "        X_b = np.c_[np.ones((X.shape[0], 1)), X]\n",
        "        m, n = X_b.shape\n",
        "        self.theta = np.zeros(n)\n",
        "\n",
        "        for i in range(self.n_iter):\n",
        "            gradients = (1 / m) * X_b.T.dot(self.sigmoid(X_b.dot(self.theta)) - y)\n",
        "            self.theta -= self.learning_rate * gradients\n",
        "\n",
        "    def predict(self, X):\n",
        "        X_b = np.c_[np.ones((X.shape[0], 1)), X]  # Add intercept\n",
        "        return self.sigmoid(X_b.dot(self.theta)) >= 0.5  # Returns True/False\n"
      ],
      "metadata": {
        "id": "HH2z8UhxrSsV"
      },
      "execution_count": 7,
      "outputs": []
    },
    {
      "cell_type": "markdown",
      "source": [
        "## 3. Mini-Batch Stochastic Gradient Descent"
      ],
      "metadata": {
        "id": "AMMweMYpLmn9"
      }
    },
    {
      "cell_type": "code",
      "source": [
        "class MiniBatchSGD:\n",
        "    def __init__(self, learning_rate=0.01, n_iter=1000, batch_size=32):\n",
        "        self.learning_rate = learning_rate\n",
        "        self.n_iter = n_iter\n",
        "        self.batch_size = batch_size\n",
        "        self.theta = None\n",
        "\n",
        "    def fit(self, X, y, model_type='linear'):\n",
        "        X_b = np.c_[np.ones((X.shape[0], 1)), X]  # Add intercept\n",
        "        m, n = X_b.shape\n",
        "        self.theta = np.zeros(n)\n",
        "\n",
        "        for epoch in range(self.n_iter):\n",
        "            indices = np.random.permutation(m)\n",
        "            X_b_shuffled = X_b[indices]\n",
        "            y_shuffled = y[indices]\n",
        "\n",
        "            for i in range(0, m, self.batch_size):\n",
        "                xi = X_b_shuffled[i:i + self.batch_size]\n",
        "                yi = y_shuffled[i:i + self.batch_size]\n",
        "\n",
        "                if model_type == 'linear':\n",
        "                    gradients = 2 / len(xi) * xi.T.dot(xi.dot(self.theta) - yi)\n",
        "                elif model_type == 'logistic':\n",
        "                    gradients = (1 / len(xi)) * xi.T.dot(self.sigmoid(xi.dot(self.theta)) - yi)\n",
        "\n",
        "                self.theta -= self.learning_rate * gradients\n",
        "\n",
        "    def predict(self, X, model_type='linear'):\n",
        "        X_b = np.c_[np.ones((X.shape[0], 1)), X]\n",
        "        if model_type == 'linear':\n",
        "            return X_b.dot(self.theta)\n",
        "        elif model_type == 'logistic':\n",
        "            return self.sigmoid(X_b.dot(self.theta)) >= 0.5\n",
        "\n",
        "    def sigmoid(self, z):\n",
        "        return 1 / (1 + np.exp(-z))\n"
      ],
      "metadata": {
        "id": "yh7VwQzmLoO-"
      },
      "execution_count": 8,
      "outputs": []
    },
    {
      "cell_type": "markdown",
      "source": [
        "# Task3: Run Experiments"
      ],
      "metadata": {
        "id": "DaFSEbCgo6Ul"
      }
    },
    {
      "cell_type": "markdown",
      "source": [
        "## 1. Train/Test Split\n",
        "80% for training and 20% for testing"
      ],
      "metadata": {
        "id": "Lkkijz9Kq9hM"
      }
    },
    {
      "cell_type": "code",
      "source": [
        "from sklearn.model_selection import train_test_split\n",
        "from sklearn.metrics import mean_squared_error, accuracy_score\n",
        "\n",
        "X_train, X_test, y_train, y_test = train_test_split(X, y, test_size=0.2, random_state=42)\n"
      ],
      "metadata": {
        "id": "tWoDgfOXrBWG"
      },
      "execution_count": 9,
      "outputs": []
    },
    {
      "cell_type": "markdown",
      "source": [
        "## 2. Linear Regression Performance"
      ],
      "metadata": {
        "id": "AHqm3-ERtjdy"
      }
    },
    {
      "cell_type": "code",
      "source": [
        "# Train linear regression using analytical solution\n",
        "lin_reg = LinearRegression()\n",
        "lin_reg.fit(X_train, y_train)\n",
        "\n",
        "# Predictions on training and test sets\n",
        "y_train_pred = lin_reg.predict(X_train)\n",
        "y_test_pred = lin_reg.predict(X_test)\n",
        "\n",
        "# Evaluate using Mean Squared Error (MSE)\n",
        "train_mse = mean_squared_error(y_train, y_train_pred)\n",
        "test_mse = mean_squared_error(y_test, y_test_pred)\n",
        "\n",
        "print(f\"Linear Regression - Train MSE: {train_mse}\")\n",
        "print(f\"Linear Regression - Test MSE: {test_mse}\")\n"
      ],
      "metadata": {
        "colab": {
          "base_uri": "https://localhost:8080/"
        },
        "id": "ljPPfTvbtjBc",
        "outputId": "ca22ea20-67cf-457f-f386-384a7c308939"
      },
      "execution_count": 10,
      "outputs": [
        {
          "output_type": "stream",
          "name": "stdout",
          "text": [
            "Linear Regression - Train MSE: 0.10075293892728054\n",
            "Linear Regression - Test MSE: 0.09954843602165149\n"
          ]
        }
      ]
    },
    {
      "cell_type": "markdown",
      "source": [
        "## 3. Logistic Regression Performance"
      ],
      "metadata": {
        "id": "Q089YDK-uXC8"
      }
    },
    {
      "cell_type": "code",
      "source": [
        "# Train logistic regression using gradient descent\n",
        "log_reg = LogisticRegression(learning_rate=0.01, n_iter=1000)\n",
        "log_reg.fit(X_train, y_train)\n",
        "\n",
        "# Predictions on training and test sets\n",
        "y_train_pred = log_reg.predict(X_train)\n",
        "y_test_pred = log_reg.predict(X_test)\n",
        "\n",
        "# Evaluate using accuracy\n",
        "train_accuracy = accuracy_score(y_train, y_train_pred)\n",
        "test_accuracy = accuracy_score(y_test, y_test_pred)\n",
        "\n",
        "print(f\"Logistic Regression - Train Accuracy: {train_accuracy}\")\n",
        "print(f\"Logistic Regression - Test Accuracy: {test_accuracy}\")\n"
      ],
      "metadata": {
        "id": "7t4V_I-zudaW"
      },
      "execution_count": null,
      "outputs": []
    },
    {
      "cell_type": "markdown",
      "source": [
        "## 4. Growing Training Subsets (20%, 30%, 40%,...,80%)"
      ],
      "metadata": {
        "id": "UkRqrF7gugHv"
      }
    },
    {
      "cell_type": "code",
      "source": [
        "train_sizes = [0.2, 0.3, 0.4, 0.5, 0.6, 0.7, 0.8]\n",
        "train_errors = []\n",
        "test_errors = []\n",
        "\n",
        "for train_size in train_sizes:\n",
        "    X_partial_train, _, y_partial_train, _ = train_test_split(X_train, y_train, train_size=train_size, random_state=42)\n",
        "\n",
        "    lin_reg.fit(X_partial_train, y_partial_train)\n",
        "    y_partial_train_pred = lin_reg.predict(X_partial_train)\n",
        "    y_test_pred = lin_reg.predict(X_test)\n",
        "\n",
        "    train_errors.append(mean_squared_error(y_partial_train, y_partial_train_pred))\n",
        "    test_errors.append(mean_squared_error(y_test, y_test_pred))\n",
        "\n",
        "# Plot the performance\n",
        "import matplotlib.pyplot as plt\n",
        "plt.plot(train_sizes, train_errors, label='Train MSE')\n",
        "plt.plot(train_sizes, test_errors, label='Test MSE')\n",
        "plt.xlabel('Training Set Size')\n",
        "plt.ylabel('Mean Squared Error')\n",
        "plt.title('Linear Regression Performance with Growing Training Set')\n",
        "plt.legend()\n",
        "plt.show()\n"
      ],
      "metadata": {
        "id": "pkr9r6HLum1t"
      },
      "execution_count": null,
      "outputs": []
    },
    {
      "cell_type": "markdown",
      "source": [
        "## 5. Experiment with Mini-Batch Sizes"
      ],
      "metadata": {
        "id": "imU3ek1GwYnV"
      }
    },
    {
      "cell_type": "code",
      "source": [
        "batch_sizes = [8, 16, 32, 64, 128]\n",
        "train_mse_results = []\n",
        "test_mse_results = []\n",
        "\n",
        "for batch_size in batch_sizes:\n",
        "    mb_sgd = MiniBatchSGD(learning_rate=0.01, n_iter=1000, batch_size=batch_size)\n",
        "    mb_sgd.fit(X_train, y_train, model_type='linear')\n",
        "\n",
        "    # Predictions and MSE\n",
        "    y_train_pred = mb_sgd.predict(X_train, model_type='linear')\n",
        "    y_test_pred = mb_sgd.predict(X_test, model_type='linear')\n",
        "\n",
        "    train_mse_results.append(mean_squared_error(y_train, y_train_pred))\n",
        "    test_mse_results.append(mean_squared_error(y_test, y_test_pred))\n",
        "\n",
        "# Plot the performance\n",
        "plt.plot(batch_sizes, train_mse_results, label='Train MSE')\n",
        "plt.plot(batch_sizes, test_mse_results, label='Test MSE')\n",
        "plt.xlabel('Batch Size')\n",
        "plt.ylabel('Mean Squared Error')\n",
        "plt.title('Performance with Different Mini-Batch Sizes')\n",
        "plt.legend()\n",
        "plt.show()\n"
      ],
      "metadata": {
        "id": "iLIAYpFxwaz7"
      },
      "execution_count": null,
      "outputs": []
    },
    {
      "cell_type": "markdown",
      "source": [
        "## 6. Vary Learning Rates"
      ],
      "metadata": {
        "id": "4x886bc-we78"
      }
    },
    {
      "cell_type": "code",
      "source": [
        "learning_rates = [0.001, 0.01, 0.1]\n",
        "train_accuracies = []\n",
        "test_accuracies = []\n",
        "\n",
        "for lr in learning_rates:\n",
        "    log_reg = LogisticRegression(learning_rate=lr, n_iter=1000)\n",
        "    log_reg.fit(X_train, y_train)\n",
        "\n",
        "    # Predictions and accuracy\n",
        "    y_train_pred = log_reg.predict(X_train)\n",
        "    y_test_pred = log_reg.predict(X_test)\n",
        "\n",
        "    train_accuracies.append(accuracy_score(y_train, y_train_pred))\n",
        "    test_accuracies.append(accuracy_score(y_test, y_test_pred))\n",
        "\n",
        "# Plot the performance\n",
        "plt.plot(learning_rates, train_accuracies, label='Train Accuracy')\n",
        "plt.plot(learning_rates, test_accuracies, label='Test Accuracy')\n",
        "plt.xlabel('Learning Rate')\n",
        "plt.ylabel('Accuracy')\n",
        "plt.title('Logistic Regression with Varying Learning Rates')\n",
        "plt.legend()\n",
        "plt.show()\n"
      ],
      "metadata": {
        "id": "R11utUVzwgC3"
      },
      "execution_count": null,
      "outputs": []
    },
    {
      "cell_type": "markdown",
      "source": [
        "## 7. Compare Analytical Linear Regression and Mini-Batch SGD"
      ],
      "metadata": {
        "id": "r-Ohztw5wjbb"
      }
    },
    {
      "cell_type": "code",
      "source": [
        "# Analytical solution for linear regression\n",
        "lin_reg.fit(X_train, y_train)\n",
        "y_pred_analytical = lin_reg.predict(X_test)\n",
        "mse_analytical = mean_squared_error(y_test, y_pred_analytical)\n",
        "\n",
        "# Mini-Batch SGD for linear regression\n",
        "mb_sgd.fit(X_train, y_train, model_type='linear')\n",
        "y_pred_sgd = mb_sgd.predict(X_test, model_type='linear')\n",
        "mse_sgd = mean_squared_error(y_test, y_pred_sgd)\n",
        "\n",
        "print(f\"Analytical Linear Regression MSE: {mse_analytical}\")\n",
        "print(f\"Mini-Batch SGD Linear Regression MSE: {mse_sgd}\")\n"
      ],
      "metadata": {
        "id": "nrTLG8sqwlV7"
      },
      "execution_count": null,
      "outputs": []
    }
  ]
}