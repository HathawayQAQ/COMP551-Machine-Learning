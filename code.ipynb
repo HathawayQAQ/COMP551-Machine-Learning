{
  "nbformat": 4,
  "nbformat_minor": 0,
  "metadata": {
    "colab": {
      "provenance": [],
      "authorship_tag": "ABX9TyNHRv0PJ76jR38lr8hCJcSx",
      "include_colab_link": true
    },
    "kernelspec": {
      "name": "python3",
      "display_name": "Python 3"
    },
    "language_info": {
      "name": "python"
    }
  },
  "cells": [
    {
      "cell_type": "markdown",
      "metadata": {
        "id": "view-in-github",
        "colab_type": "text"
      },
      "source": [
        "<a href=\"https://colab.research.google.com/github/HathawayQAQ/COMP551-Machine-Learning/blob/main/code.ipynb\" target=\"_parent\"><img src=\"https://colab.research.google.com/assets/colab-badge.svg\" alt=\"Open In Colab\"/></a>"
      ]
    },
    {
      "cell_type": "markdown",
      "source": [
        "Hathaway Hao, 261071268\n",
        "\n",
        "Yifan Lin\n",
        "\n",
        "Michael Yu"
      ],
      "metadata": {
        "id": "FTMm8sd2kD1v"
      }
    },
    {
      "cell_type": "code",
      "source": [
        "import numpy as np\n",
        "import pandas as pd\n",
        "\n",
        "!pip install ucimlrepo\n",
        "# Import the required library\n",
        "from ucimlrepo import fetch_ucirepo"
      ],
      "metadata": {
        "colab": {
          "base_uri": "https://localhost:8080/"
        },
        "id": "CoqEll8-emtE",
        "outputId": "fb266dd5-1b97-45d8-c573-00102a6d23f0"
      },
      "execution_count": null,
      "outputs": [
        {
          "output_type": "stream",
          "name": "stdout",
          "text": [
            "Requirement already satisfied: ucimlrepo in /usr/local/lib/python3.10/dist-packages (0.0.7)\n",
            "Requirement already satisfied: pandas>=1.0.0 in /usr/local/lib/python3.10/dist-packages (from ucimlrepo) (2.1.4)\n",
            "Requirement already satisfied: certifi>=2020.12.5 in /usr/local/lib/python3.10/dist-packages (from ucimlrepo) (2024.8.30)\n",
            "Requirement already satisfied: numpy<2,>=1.22.4 in /usr/local/lib/python3.10/dist-packages (from pandas>=1.0.0->ucimlrepo) (1.26.4)\n",
            "Requirement already satisfied: python-dateutil>=2.8.2 in /usr/local/lib/python3.10/dist-packages (from pandas>=1.0.0->ucimlrepo) (2.8.2)\n",
            "Requirement already satisfied: pytz>=2020.1 in /usr/local/lib/python3.10/dist-packages (from pandas>=1.0.0->ucimlrepo) (2024.2)\n",
            "Requirement already satisfied: tzdata>=2022.1 in /usr/local/lib/python3.10/dist-packages (from pandas>=1.0.0->ucimlrepo) (2024.1)\n",
            "Requirement already satisfied: six>=1.5 in /usr/local/lib/python3.10/dist-packages (from python-dateutil>=2.8.2->pandas>=1.0.0->ucimlrepo) (1.16.0)\n"
          ]
        }
      ]
    },
    {
      "cell_type": "markdown",
      "source": [
        "# Data Preperation\n",
        "1. Dataset1: Infrared Thermography Temperature (regression): [link](https://archive.ics.uci.edu/dataset/925/infrared+thermography+temperature+dataset)\n",
        "2. Dataset 2: CDC Diabetes Health Indicators (classification): [link](https://archive.ics.uci.edu/dataset/891/cdc+diabetes+health+indicators)"
      ],
      "metadata": {
        "id": "JKJB_swKkghc"
      }
    },
    {
      "cell_type": "markdown",
      "source": [
        "# Infrared Thermography Temperature"
      ],
      "metadata": {
        "id": "uhlrJ6UYk7u2"
      }
    },
    {
      "cell_type": "code",
      "source": [
        "# Fetch the dataset by ID\n",
        "infrared_thermography_temperature = fetch_ucirepo(id=925)\n",
        "\n",
        "# data (as pandas dataframes)\n",
        "X = infrared_thermography_temperature.data.features\n",
        "y = infrared_thermography_temperature.data.targets\n",
        "\n",
        "# metadata\n",
        "print(infrared_thermography_temperature.metadata)\n",
        "\n",
        "# variable information\n",
        "print(infrared_thermography_temperature.variables)"
      ],
      "metadata": {
        "colab": {
          "base_uri": "https://localhost:8080/"
        },
        "id": "Snf_ax9vlDIf",
        "outputId": "86530f79-fd20-43ec-8651-66338f2e5a72"
      },
      "execution_count": 3,
      "outputs": [
        {
          "output_type": "stream",
          "name": "stdout",
          "text": [
            "{'uci_id': 925, 'name': 'Infrared Thermography Temperature', 'repository_url': 'https://archive.ics.uci.edu/dataset/925/infrared+thermography+temperature+dataset', 'data_url': 'https://archive.ics.uci.edu/static/public/925/data.csv', 'abstract': 'The Infrared Thermography Temperature Dataset contains temperatures read from various locations of inferred images about patients, with the addition of oral temperatures measured for each individual. The 33 features consist of gender, age, ethnicity, ambiant temperature, humidity, distance, and other temperature readings from the thermal images. The dataset is intended to be used in a regression task to predict the oral temperature using the environment information as well as the thermal image readings. ', 'area': 'Health and Medicine', 'tasks': ['Regression'], 'characteristics': ['Tabular'], 'num_instances': 1020, 'num_features': 33, 'feature_types': ['Real', 'Categorical'], 'demographics': ['Gender', 'Age', 'Ethnicity'], 'target_col': ['aveOralF', 'aveOralM'], 'index_col': ['SubjectID'], 'has_missing_values': 'no', 'missing_values_symbol': None, 'year_of_dataset_creation': 2021, 'last_updated': 'Tue Dec 12 2023', 'dataset_doi': '10.13026/9ay4-2c37', 'creators': ['Quanzeng Wang', 'Yangling Zhou', 'Pejman Ghassemi', 'David McBride', 'J. Casamento', 'T. Pfefer', 'Quanzeng Wang', 'Yangling Zhou', 'Pejman Ghassemi', 'David McBride', 'J. Casamento', 'T. Pfefer'], 'intro_paper': {'title': 'Infrared Thermography for Measuring Elevated Body Temperature: Clinical Accuracy, Calibration, and Evaluation', 'authors': 'Quanzeng Wang, Yangling Zhou, Pejman Ghassemi, David McBride, J. Casamento, T. Pfefer', 'published_in': 'Italian National Conference on Sensors', 'year': 2021, 'url': 'https://www.semanticscholar.org/paper/443b9932d295ca3a014e7d874b4bd77a33a276bd', 'doi': None}, 'additional_info': {'summary': None, 'purpose': None, 'funded_by': None, 'instances_represent': None, 'recommended_data_splits': None, 'sensitive_data': None, 'preprocessing_description': None, 'variable_info': '- gender\\n- age\\n- ethnicity\\n- ambiant temperature\\n- humidity\\n- distance\\n- temperature readings from the thermal images', 'citation': None}, 'external_url': 'https://physionet.org/content/face-oral-temp-data/1.0.0/'}\n",
            "           name     role         type demographic  \\\n",
            "0     SubjectID       ID  Categorical        None   \n",
            "1      aveOralF   Target   Continuous        None   \n",
            "2      aveOralM   Target   Continuous        None   \n",
            "3        Gender  Feature  Categorical      Gender   \n",
            "4           Age  Feature  Categorical         Age   \n",
            "5     Ethnicity  Feature  Categorical   Ethnicity   \n",
            "6         T_atm  Feature   Continuous        None   \n",
            "7      Humidity  Feature   Continuous        None   \n",
            "8      Distance  Feature   Continuous        None   \n",
            "9     T_offset1  Feature   Continuous        None   \n",
            "10    Max1R13_1  Feature   Continuous        None   \n",
            "11    Max1L13_1  Feature   Continuous        None   \n",
            "12  aveAllR13_1  Feature   Continuous        None   \n",
            "13  aveAllL13_1  Feature   Continuous        None   \n",
            "14        T_RC1  Feature   Continuous        None   \n",
            "15    T_RC_Dry1  Feature   Continuous        None   \n",
            "16    T_RC_Wet1  Feature   Continuous        None   \n",
            "17    T_RC_Max1  Feature   Continuous        None   \n",
            "18        T_LC1  Feature   Continuous        None   \n",
            "19    T_LC_Dry1  Feature   Continuous        None   \n",
            "20    T_LC_Wet1  Feature   Continuous        None   \n",
            "21    T_LC_Max1  Feature   Continuous        None   \n",
            "22         RCC1  Feature   Continuous        None   \n",
            "23         LCC1  Feature   Continuous        None   \n",
            "24   canthiMax1  Feature   Continuous        None   \n",
            "25  canthi4Max1  Feature   Continuous        None   \n",
            "26      T_FHCC1  Feature   Continuous        None   \n",
            "27      T_FHRC1  Feature   Continuous        None   \n",
            "28      T_FHLC1  Feature   Continuous        None   \n",
            "29      T_FHBC1  Feature   Continuous        None   \n",
            "30      T_FHTC1  Feature   Continuous        None   \n",
            "31    T_FH_Max1  Feature   Continuous        None   \n",
            "32   T_FHC_Max1  Feature   Continuous        None   \n",
            "33       T_Max1  Feature   Continuous        None   \n",
            "34        T_OR1  Feature   Continuous        None   \n",
            "35    T_OR_Max1  Feature   Continuous        None   \n",
            "\n",
            "                                          description units missing_values  \n",
            "0                                          Subject ID  None             no  \n",
            "1              Oral temperature measured in fast mode  None             no  \n",
            "2           Oral temperature measured in monitor mode  None             no  \n",
            "3                                      Male or Female  None             no  \n",
            "4                          Age ranges in categories\\n  None             no  \n",
            "5   American Indian or Alaska Native, Asian, Black...  None             no  \n",
            "6                                 Ambiant temperature  None             no  \n",
            "7                                   Relative humidity  None             no  \n",
            "8       Distance between the subjects and the IRTs.    None             no  \n",
            "9   Temperature difference between the set and mea...  None             no  \n",
            "10  Max value of a circle with diameter of 13 pixe...  None             no  \n",
            "11  Max value of a circle with diameter of 13 pixe...  None             no  \n",
            "12  Average value of a circle with diameter of 13 ...  None             no  \n",
            "13  Average value of a circle with diameter of 13 ...  None             no  \n",
            "14  Average temperature of the highest four pixels...  None             no  \n",
            "15  Average temperature of the highest four pixels...  None             no  \n",
            "16  Average temperature of the highest four pixels...  None             no  \n",
            "17  Max value of a square of 24x24 pixels around t...  None             no  \n",
            "18  Average temperature of the highest four pixels...  None             no  \n",
            "19  Average temperature of the highest four pixels...  None             no  \n",
            "20  Average temperature of the highest four pixels...  None             no  \n",
            "21  Max value of a circle with diameter of 13 pixe...  None             no  \n",
            "22  Average value of a square of 3x3 pixels center...  None             no  \n",
            "23  Average value of a square of 3x3 pixels center...  None             no  \n",
            "24              Max value in the extended canthi area  None             no  \n",
            "25  Average temperature of the highest four pixels...  None             no  \n",
            "26  Average value in the center point of forehead,...  None             no  \n",
            "27  Average value in the right point of the forehe...  None             no  \n",
            "28  Average value in the left point of the forehea...  None             no  \n",
            "29  Average value in the bottom point of the foreh...  None             no  \n",
            "30  Average value in the top point of the forehead...  None             no  \n",
            "31  Maximum temperature within the extended forehe...  None             no  \n",
            "32  Max value in the center point of forehead, a s...  None             no  \n",
            "33  Maximum temperature within the whole face region.  None             no  \n",
            "34  Average temperature of the highest four pixels...  None             no  \n",
            "35       Maximum temperature within the mouth region.  None             no  \n"
          ]
        }
      ]
    },
    {
      "cell_type": "markdown",
      "source": [
        "# CDC Diabetes Health Indicators"
      ],
      "metadata": {
        "id": "EmlkMU2slIAG"
      }
    },
    {
      "cell_type": "code",
      "source": [
        "# fetch dataset\n",
        "cdc_diabetes_health_indicators = fetch_ucirepo(id=891)\n",
        "\n",
        "# data (as pandas dataframes)\n",
        "X = cdc_diabetes_health_indicators.data.features\n",
        "y = cdc_diabetes_health_indicators.data.targets\n",
        "\n",
        "# metadata\n",
        "print(cdc_diabetes_health_indicators.metadata)\n",
        "\n",
        "# variable information\n",
        "print(cdc_diabetes_health_indicators.variables)"
      ],
      "metadata": {
        "id": "l--Bi8XJicwi"
      },
      "execution_count": null,
      "outputs": []
    }
  ]
}